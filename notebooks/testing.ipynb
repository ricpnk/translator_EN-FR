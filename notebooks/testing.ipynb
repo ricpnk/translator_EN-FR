{
 "cells": [
  {
   "cell_type": "code",
   "execution_count": 1,
   "id": "f7f65be5",
   "metadata": {},
   "outputs": [],
   "source": [
    "import sys, os\n",
    "sys.path.insert(0, os.path.abspath(os.path.join(os.getcwd(), os.pardir)))\n",
    "\n",
    "import torch\n",
    "import pandas as pd\n",
    "from src.Vocab import Vocab\n",
    "from collections import Counter"
   ]
  },
  {
   "cell_type": "code",
   "execution_count": 2,
   "id": "d858b54c",
   "metadata": {},
   "outputs": [
    {
     "name": "stdout",
     "output_type": "stream",
     "text": [
      "Vocab-Size: 3760\n",
      "Vocab-Size: 5390\n",
      "Index of '<unk>':  3\n",
      "Index of '<unk>':  3\n",
      "First Word (Index 0):  <pad>\n",
      "First Word (Index 0):  <pad>\n",
      "English:  i\n",
      "France:  je\n",
      "English:  m\n",
      "France:  suis\n",
      "English:  you\n",
      "France:  est\n",
      "English:  re\n",
      "France:  il\n",
      "English:  he\n",
      "France:  vous\n"
     ]
    }
   ],
   "source": [
    "data = pd.read_csv(\"../data/rec05_small_en_fr.csv\")\n",
    "\n",
    "\n",
    "en_counter = Counter()\n",
    "fr_counter = Counter()\n",
    "for sentence in data[\"EN\"]:\n",
    "    en_counter.update(sentence.split())\n",
    "\n",
    "for sentence in data[\"FR\"]:\n",
    "    fr_counter.update(sentence.split())\n",
    "\n",
    "vocabulary_en = Vocab()\n",
    "vocabulary_fr = Vocab()\n",
    "vocabulary_en.build(en_counter)\n",
    "vocabulary_fr.build(fr_counter)\n",
    "\n",
    "\n",
    "print(f\"Vocab-Size: {len(vocabulary_en)}\")\n",
    "print(f\"Vocab-Size: {len(vocabulary_fr)}\")\n",
    "print(\"Index of '<unk>': \", vocabulary_en.word2idx[\"<unk>\"])\n",
    "print(\"Index of '<unk>': \", vocabulary_fr.word2idx[\"<unk>\"])\n",
    "print(f\"First Word (Index 0): \", vocabulary_en.idx2word[0])\n",
    "print(f\"First Word (Index 0): \", vocabulary_fr.idx2word[0])\n",
    "for i in range(5, 10):\n",
    "    print(\"English: \", vocabulary_en.idx2word[i])\n",
    "    print(\"France: \", vocabulary_fr.idx2word[i])\n"
   ]
  },
  {
   "cell_type": "code",
   "execution_count": 3,
   "id": "ebb5d623",
   "metadata": {},
   "outputs": [
    {
     "data": {
      "text/plain": [
       "'i m at a loss for words .'"
      ]
     },
     "execution_count": 3,
     "metadata": {},
     "output_type": "execute_result"
    }
   ],
   "source": [
    "data[\"EN\"][0]"
   ]
  },
  {
   "cell_type": "code",
   "execution_count": 4,
   "id": "bc88c72b",
   "metadata": {},
   "outputs": [
    {
     "name": "stdout",
     "output_type": "stream",
     "text": [
      "[1, 5, 6, 28, 11, 702, 25, 517, 4, 2]\n",
      "['i', 'm', 'at', 'a', 'loss', 'for', 'words', '.']\n"
     ]
    }
   ],
   "source": [
    "sentence = data[\"EN\"][0]\n",
    "sentence_idx = vocabulary_en.sentence_to_idx(sentence)\n",
    "print(sentence_idx)\n",
    "sentece_words = vocabulary_en.idx_to_sentence(sentence_idx)\n",
    "print(sentece_words)\n",
    "\n"
   ]
  },
  {
   "cell_type": "markdown",
   "id": "6e739f27",
   "metadata": {},
   "source": []
  },
  {
   "cell_type": "code",
   "execution_count": 11,
   "id": "8585bad1",
   "metadata": {},
   "outputs": [
    {
     "name": "stdout",
     "output_type": "stream",
     "text": [
      "[1, 5, 6, 28, 11, 702, 25, 517, 4, 2]\n",
      "[1, 29, 20, 1078, 105, 801, 4, 2]\n",
      "['i', 'm', 'at', 'a', 'loss', 'for', 'words', '.']\n",
      "['j', 'en', 'perds', 'mes', 'mots', '.']\n"
     ]
    }
   ],
   "source": [
    "from src.Translation_Data import Translation_Data\n",
    "from torch.utils.data import Dataset\n",
    "\n",
    "translation_set = Translation_Data(data, vocabulary_en, vocabulary_fr)\n",
    "\n",
    "input_tensor, output_tensor = translation_set[0]\n",
    "print(input_tensor.tolist())\n",
    "print(output_tensor.tolist())\n",
    "\n",
    "print(vocabulary_en.idx_to_sentence(input_tensor.tolist()))\n",
    "print(vocabulary_fr.idx_to_sentence(output_tensor.tolist()))"
   ]
  },
  {
   "cell_type": "code",
   "execution_count": null,
   "id": "1927e93d",
   "metadata": {},
   "outputs": [],
   "source": []
  }
 ],
 "metadata": {
  "kernelspec": {
   "display_name": ".venv",
   "language": "python",
   "name": "python3"
  },
  "language_info": {
   "codemirror_mode": {
    "name": "ipython",
    "version": 3
   },
   "file_extension": ".py",
   "mimetype": "text/x-python",
   "name": "python",
   "nbconvert_exporter": "python",
   "pygments_lexer": "ipython3",
   "version": "3.10.16"
  }
 },
 "nbformat": 4,
 "nbformat_minor": 5
}
