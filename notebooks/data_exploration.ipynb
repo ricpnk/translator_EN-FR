{
 "cells": [
  {
   "cell_type": "code",
   "execution_count": 28,
   "id": "2719af09",
   "metadata": {},
   "outputs": [],
   "source": [
    "import torch\n",
    "import pandas as pd\n",
    "from torch.utils.data import dataloader"
   ]
  },
  {
   "cell_type": "code",
   "execution_count": 29,
   "id": "dc2d70b6",
   "metadata": {},
   "outputs": [
    {
     "data": {
      "text/plain": [
       "14348"
      ]
     },
     "execution_count": 29,
     "metadata": {},
     "output_type": "execute_result"
    }
   ],
   "source": [
    "data = pd.read_csv(\"../data/rec05_small_en_fr.csv\")\n",
    "len(data)"
   ]
  },
  {
   "cell_type": "code",
   "execution_count": 30,
   "id": "03845dfa",
   "metadata": {},
   "outputs": [
    {
     "data": {
      "text/html": [
       "<div>\n",
       "<style scoped>\n",
       "    .dataframe tbody tr th:only-of-type {\n",
       "        vertical-align: middle;\n",
       "    }\n",
       "\n",
       "    .dataframe tbody tr th {\n",
       "        vertical-align: top;\n",
       "    }\n",
       "\n",
       "    .dataframe thead th {\n",
       "        text-align: right;\n",
       "    }\n",
       "</style>\n",
       "<table border=\"1\" class=\"dataframe\">\n",
       "  <thead>\n",
       "    <tr style=\"text-align: right;\">\n",
       "      <th></th>\n",
       "      <th>EN</th>\n",
       "      <th>FR</th>\n",
       "    </tr>\n",
       "  </thead>\n",
       "  <tbody>\n",
       "    <tr>\n",
       "      <th>0</th>\n",
       "      <td>i m at a loss for words .</td>\n",
       "      <td>j en perds mes mots .</td>\n",
       "    </tr>\n",
       "    <tr>\n",
       "      <th>1</th>\n",
       "      <td>i m at a loss for words .</td>\n",
       "      <td>les mots me manquent .</td>\n",
       "    </tr>\n",
       "    <tr>\n",
       "      <th>2</th>\n",
       "      <td>i m at a loss for words .</td>\n",
       "      <td>je ne trouve pas les mots .</td>\n",
       "    </tr>\n",
       "    <tr>\n",
       "      <th>3</th>\n",
       "      <td>you re in better shape than i am .</td>\n",
       "      <td>tu es en meilleure forme que moi .</td>\n",
       "    </tr>\n",
       "    <tr>\n",
       "      <th>4</th>\n",
       "      <td>you are in my way .</td>\n",
       "      <td>tu es sur mon chemin .</td>\n",
       "    </tr>\n",
       "  </tbody>\n",
       "</table>\n",
       "</div>"
      ],
      "text/plain": [
       "                                   EN                                  FR\n",
       "0           i m at a loss for words .               j en perds mes mots .\n",
       "1           i m at a loss for words .              les mots me manquent .\n",
       "2           i m at a loss for words .         je ne trouve pas les mots .\n",
       "3  you re in better shape than i am .  tu es en meilleure forme que moi .\n",
       "4                 you are in my way .              tu es sur mon chemin ."
      ]
     },
     "execution_count": 30,
     "metadata": {},
     "output_type": "execute_result"
    }
   ],
   "source": [
    "data.head()"
   ]
  },
  {
   "cell_type": "code",
   "execution_count": 31,
   "id": "7eb94b75",
   "metadata": {},
   "outputs": [
    {
     "data": {
      "text/html": [
       "<div>\n",
       "<style scoped>\n",
       "    .dataframe tbody tr th:only-of-type {\n",
       "        vertical-align: middle;\n",
       "    }\n",
       "\n",
       "    .dataframe tbody tr th {\n",
       "        vertical-align: top;\n",
       "    }\n",
       "\n",
       "    .dataframe thead th {\n",
       "        text-align: right;\n",
       "    }\n",
       "</style>\n",
       "<table border=\"1\" class=\"dataframe\">\n",
       "  <thead>\n",
       "    <tr style=\"text-align: right;\">\n",
       "      <th></th>\n",
       "      <th>EN</th>\n",
       "      <th>FR</th>\n",
       "    </tr>\n",
       "  </thead>\n",
       "  <tbody>\n",
       "    <tr>\n",
       "      <th>3700</th>\n",
       "      <td>you re the only one for me now .</td>\n",
       "      <td>tu es le seul pour moi maintenant .</td>\n",
       "    </tr>\n",
       "    <tr>\n",
       "      <th>5570</th>\n",
       "      <td>he s a bit naive .</td>\n",
       "      <td>il est un peu niais .</td>\n",
       "    </tr>\n",
       "    <tr>\n",
       "      <th>8227</th>\n",
       "      <td>you re very understanding .</td>\n",
       "      <td>vous etes fort comprehensives .</td>\n",
       "    </tr>\n",
       "  </tbody>\n",
       "</table>\n",
       "</div>"
      ],
      "text/plain": [
       "                                    EN                                   FR\n",
       "3700  you re the only one for me now .  tu es le seul pour moi maintenant .\n",
       "5570                he s a bit naive .                il est un peu niais .\n",
       "8227       you re very understanding .      vous etes fort comprehensives ."
      ]
     },
     "execution_count": 31,
     "metadata": {},
     "output_type": "execute_result"
    }
   ],
   "source": [
    "data.sample(3)"
   ]
  },
  {
   "cell_type": "code",
   "execution_count": 32,
   "id": "0c41f8f5",
   "metadata": {},
   "outputs": [
    {
     "name": "stdout",
     "output_type": "stream",
     "text": [
      "8\n",
      "i m at a loss for words .\n"
     ]
    }
   ],
   "source": [
    "print(len(data[\"EN\"][0].split()))\n",
    "print(data[\"EN\"][0])"
   ]
  },
  {
   "cell_type": "code",
   "execution_count": 33,
   "id": "291d326d",
   "metadata": {},
   "outputs": [
    {
     "name": "stdout",
     "output_type": "stream",
     "text": [
      "             EN_len        FR_len\n",
      "count  14348.000000  14348.000000\n",
      "mean       6.095066      6.230276\n",
      "std        1.443635      1.572335\n",
      "min        3.000000      2.000000\n",
      "25%        5.000000      5.000000\n",
      "50%        6.000000      6.000000\n",
      "75%        7.000000      7.000000\n",
      "max        9.000000      9.000000\n"
     ]
    }
   ],
   "source": [
    "data[\"EN_len\"] = data[\"EN\"].apply(lambda x: len(x.split()))\n",
    "data[\"FR_len\"] = data[\"FR\"].apply(lambda x: len(x.split()))\n",
    "\n",
    "print(data[[\"EN_len\", \"FR_len\"]].describe())"
   ]
  },
  {
   "cell_type": "code",
   "execution_count": 34,
   "id": "71badb37",
   "metadata": {},
   "outputs": [
    {
     "data": {
      "image/png": "[encoded data removed]",
      "text/plain": [
       "<Figure size 640x480 with 1 Axes>"
      ]
     },
     "metadata": {},
     "output_type": "display_data"
    }
   ],
   "source": [
    "import matplotlib.pyplot as plt\n",
    "\n",
    "plt.figure()\n",
    "plt.hist(data[\"EN_len\"], bins=30)\n",
    "plt.title(\"Verteilung der englischen Satzlängen\")\n",
    "plt.xlabel(\"Anzahl Tokens\")\n",
    "plt.ylabel(\"Häufigkeit\")\n",
    "plt.show()"
   ]
  },
  {
   "cell_type": "code",
   "execution_count": 35,
   "id": "278358db",
   "metadata": {},
   "outputs": [
    {
     "data": {
      "image/png": "[encoded data removed]",
      "text/plain": [
       "<Figure size 640x480 with 1 Axes>"
      ]
     },
     "metadata": {},
     "output_type": "display_data"
    }
   ],
   "source": [
    "plt.figure()\n",
    "plt.hist(data[\"FR_len\"], bins=30)\n",
    "plt.title(\"Verteilung der französischen Satzlängen\")\n",
    "plt.xlabel(\"Anzahl Tokens\")\n",
    "plt.ylabel(\"Häufigkeit\")\n",
    "plt.show()"
   ]
  },
  {
   "cell_type": "code",
   "execution_count": 36,
   "id": "460ee277",
   "metadata": {},
   "outputs": [
    {
     "name": "stdout",
     "output_type": "stream",
     "text": [
      "EN len: 3756\n",
      "FR len: 5386\n"
     ]
    }
   ],
   "source": [
    "from collections import Counter\n",
    "\n",
    "all_EN_tokens = Counter()\n",
    "all_FR_tokens = Counter()\n",
    "\n",
    "for sentence in data[\"EN\"]:\n",
    "    all_EN_tokens.update(sentence.split())\n",
    "for sentence in data[\"FR\"]:\n",
    "    all_FR_tokens.update(sentence.split())\n",
    "\n",
    "print(f\"EN len: {len(all_EN_tokens)}\")\n",
    "print(f\"FR len: {len(all_FR_tokens)}\")"
   ]
  },
  {
   "cell_type": "code",
   "execution_count": null,
   "id": "77601e34",
   "metadata": {},
   "outputs": [],
   "source": []
  }
 ],
 "metadata": {
  "kernelspec": {
   "display_name": ".venv",
   "language": "python",
   "name": "python3"
  },
  "language_info": {
   "codemirror_mode": {
    "name": "ipython",
    "version": 3
   },
   "file_extension": ".py",
   "mimetype": "text/x-python",
   "name": "python",
   "nbconvert_exporter": "python",
   "pygments_lexer": "ipython3",
   "version": "3.10.16"
  }
 },
 "nbformat": 4,
 "nbformat_minor": 5
}
